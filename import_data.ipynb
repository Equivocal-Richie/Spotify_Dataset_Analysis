{
 "cells": [
  {
   "cell_type": "markdown",
   "id": "6465e9d1-6ab8-4b9d-8393-2edf5db7de70",
   "metadata": {},
   "source": [
    "<h1><b> Set-up to Import the Spotify Dataset to MySQL Workbench! </b></h1>"
   ]
  },
  {
   "cell_type": "markdown",
   "id": "eb8f28ce-8f39-4a6c-9028-159bfd289b07",
   "metadata": {},
   "source": [
    "<H3><b>1. Install Necessary Libraries</b></H3>"
   ]
  },
  {
   "cell_type": "code",
   "execution_count": null,
   "id": "596ad138-6003-4f69-869f-addffabb29f8",
   "metadata": {
    "scrolled": true
   },
   "outputs": [],
   "source": [
    "pip install mysql-connector-python pandas gdown"
   ]
  },
  {
   "cell_type": "markdown",
   "id": "a522d279-08d1-4d66-89ee-aac02f8ba349",
   "metadata": {},
   "source": [
    "<h3><b>2. Import Necessary Libraries</b></h3>"
   ]
  },
  {
   "cell_type": "code",
   "execution_count": 3,
   "id": "7b7f4eea-d0aa-4fc3-b7e7-dcbe7218785a",
   "metadata": {},
   "outputs": [],
   "source": [
    "import gdown\n",
    "import pandas as pd\n",
    "import mysql.connector\n",
    "from mysql.connector import Error"
   ]
  },
  {
   "cell_type": "markdown",
   "id": "6d63a89e-f248-48d3-b21a-f42f4c5d6d71",
   "metadata": {},
   "source": [
    "<h3><b>3. Download the dataset from Google Drive</b></h3>"
   ]
  },
  {
   "cell_type": "markdown",
   "id": "b2ab354a-96d7-41eb-a83b-628e62013903",
   "metadata": {},
   "source": [
    "<p style=\"font-size:16px;\"><b>Note:</b><br>\n",
    "Extract the File ID:\n",
    "    ** From the shareable link, extract the file ID. The file ID is the part after /d/ and before /view. **\n",
    "\n",
    "<b>For example, if your link is:</b>\n",
    "\n",
    "<spam>https://drive.google.com/file/d/1009ZQdqIQV1-TNqNt1rXENK4zFWM_55u/view?usp=drive_link</spam>\n",
    "\n",
    "The file ID is <b>1009ZQdqIQV1-TNqNt1rXENK4zFWM_55u.</b>\n",
    "</p>"
   ]
  },
  {
   "cell_type": "code",
   "execution_count": 11,
   "id": "6eaca31a-93ea-4776-baaf-29d1718d7acb",
   "metadata": {},
   "outputs": [
    {
     "name": "stderr",
     "output_type": "stream",
     "text": [
      "Downloading...\n",
      "From: https://drive.google.com/uc?id=1009ZQdqIQV1-TNqNt1rXENK4zFWM_55u\n",
      "To: C:\\Users\\Richard Muchoki\\Documents\\SQL\\Spotify_Dataset_Analysis\\spotify_dataset.csv\n",
      "100%|██████████| 21.3M/21.3M [00:46<00:00, 461kB/s]\n"
     ]
    },
    {
     "data": {
      "text/plain": [
       "'spotify_dataset.csv'"
      ]
     },
     "execution_count": 11,
     "metadata": {},
     "output_type": "execute_result"
    }
   ],
   "source": [
    "# Replace 'your_file_id' with the actual file ID of your dataset on Google Drive\n",
    "'''\n",
    "How to get your file_id:\n",
    "    - Open your dataset in Google Drive.\n",
    "    - Right-click on the file and select \"Get link\".\n",
    "    - Copy the file ID from the URL. It should look something like this: https://drive.google.com/file/d/<file_id>/view.\n",
    "'''\n",
    "file_id = '1009ZQdqIQV1-TNqNt1rXENK4zFWM_55u'\n",
    "output = 'spotify_dataset.csv'\n",
    "gdown.download(f'https://drive.google.com/uc?id={file_id}', output, quiet=False)"
   ]
  },
  {
   "cell_type": "markdown",
   "id": "d5d974de-8775-456f-8a23-cda16f1360b6",
   "metadata": {},
   "source": [
    "<h3><b>4. Connect to the MySQL database</b></h3>"
   ]
  },
  {
   "cell_type": "code",
   "execution_count": null,
   "id": "be424e0e-8ae2-4ae7-9733-0be135c4f5de",
   "metadata": {},
   "outputs": [],
   "source": [
    "import mysql.connector\n",
    "from mysql.connector import Error\n",
    "\n",
    "try:\n",
    "    connection = mysql.connector.connect(\n",
    "        host='localhost',      # Replace with your MySQL host\n",
    "        user='root',  # Replace with your MySQL username\n",
    "        password='12345678',  # Replace with your MySQL password\n",
    "        database='spotify_analysis'  # Replace with your MySQL database name\n",
    "    )\n",
    "    if connection.is_connected():\n",
    "        print(\"Successfully connected to the database\")\n",
    "        \n",
    "        # Create a cursor object\n",
    "        cursor = connection.cursor()\n",
    "\n",
    "        # Create a table to store the dataset\n",
    "        create_table_query = \"\"\"\n",
    "        CREATE TABLE IF NOT EXISTS spotify_data (\n",
    "            track_id VARCHAR(255),\n",
    "            user_id VARCHAR(255),\n",
    "            platform VARCHAR(255),\n",
    "            shuffle_mode BOOLEAN,\n",
    "            reason_end VARCHAR(255),\n",
    "            timestamp TIMESTAMP,\n",
    "            duration INT,\n",
    "            PRIMARY KEY (track_id, user_id, timestamp)\n",
    "        )\n",
    "        \"\"\"\n",
    "        cursor.execute(create_table_query)\n",
    "        print(\"Table created successfully\")\n",
    "\n",
    "        # Insert data into the table\n",
    "        for i, row in df.iterrows():\n",
    "            insert_query = \"\"\"\n",
    "            INSERT INTO spotify_data (track_id, user_id, platform, shuffle_mode, reason_end, timestamp, duration)\n",
    "            VALUES (%s, %s, %s, %s, %s, %s, %s)\n",
    "            \"\"\"\n",
    "            cursor.execute(insert_query, tuple(row))\n",
    "\n",
    "        # Commit the transaction\n",
    "        connection.commit()\n",
    "        print(\"Data inserted successfully\")\n",
    "\n",
    "except Error as e:\n",
    "    print(f\"Error: {e}\")\n",
    "finally:\n",
    "    if connection.is_connected():\n",
    "        cursor.close()\n",
    "        connection.close()\n",
    "        print(\"MySQL connection is closed\")"
   ]
  },
  {
   "cell_type": "code",
   "execution_count": null,
   "id": "41d20c05-be1d-4740-95dd-93843ed75fdd",
   "metadata": {},
   "outputs": [],
   "source": []
  }
 ],
 "metadata": {
  "kernelspec": {
   "display_name": "Python 3 (ipykernel)",
   "language": "python",
   "name": "python3"
  },
  "language_info": {
   "codemirror_mode": {
    "name": "ipython",
    "version": 3
   },
   "file_extension": ".py",
   "mimetype": "text/x-python",
   "name": "python",
   "nbconvert_exporter": "python",
   "pygments_lexer": "ipython3",
   "version": "3.12.4"
  }
 },
 "nbformat": 4,
 "nbformat_minor": 5
}
